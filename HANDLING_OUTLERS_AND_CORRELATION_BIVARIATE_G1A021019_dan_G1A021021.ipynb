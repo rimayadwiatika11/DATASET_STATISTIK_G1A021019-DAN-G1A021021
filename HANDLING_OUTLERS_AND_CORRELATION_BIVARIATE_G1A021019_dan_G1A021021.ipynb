{
  "nbformat": 4,
  "nbformat_minor": 0,
  "metadata": {
    "colab": {
      "provenance": [],
      "collapsed_sections": [],
      "authorship_tag": "ABX9TyMgwfM6R7zfIPSHbI9Xhk+o",
      "include_colab_link": true
    },
    "kernelspec": {
      "name": "python3",
      "display_name": "Python 3"
    },
    "language_info": {
      "name": "python"
    }
  },
  "cells": [
    {
      "cell_type": "markdown",
      "metadata": {
        "id": "view-in-github",
        "colab_type": "text"
      },
      "source": [
        "<a href=\"https://colab.research.google.com/github/rimayadwiatika11/DATASET_STATISTIK_G1A021019-DAN-G1A021021/blob/main/HANDLING_OUTLERS_AND_CORRELATION_BIVARIATE_G1A021019_dan_G1A021021.ipynb\" target=\"_parent\"><img src=\"https://colab.research.google.com/assets/colab-badge.svg\" alt=\"Open In Colab\"/></a>"
      ]
    },
    {
      "cell_type": "markdown",
      "source": [
        "**TUGAS DATASET STATISTIKA**\n",
        "\n",
        "**Nama Anggota Kelompok :**\n",
        "\n",
        "*   **Rose Enjellina   (G1A021019)**\n",
        "*   **Rimaya Dwi Atika (G1A021021)**\n",
        "\n",
        "\n",
        "\n",
        "\n",
        "**INFORMATIKA A**"
      ],
      "metadata": {
        "id": "HGPlHETxBpZW"
      }
    },
    {
      "cell_type": "markdown",
      "source": [
        "Dalam tugas Statistika ini kami menggunakan sampel dataset dari github Yugesh Ravi dengan link sebagai berikut: https://github.com/Yugesh-Ravi/Exploratory-Analysis-of-Melbourne-Housing-Data.git\n",
        "Dalam dataset ini yang kami pahami yaitu menjelaskan mengenai data rumah yang yang diperjualbelikan di Malbourne. Dalam Dataset ini terdapat banyak kolom sehingga kami memutuskan untuk memodifikasi dengan menghapus beberapa kolom sehingga kami hanya memakai satu kolom sebagai tempat adanya Missing Value agar lebih mudah untuk dipahami.\n"
      ],
      "metadata": {
        "id": "CxZAcdVvs4q3"
      }
    },
    {
      "cell_type": "markdown",
      "source": [
        "## HANDLING OUTLIERS"
      ],
      "metadata": {
        "id": "-5OprJccyKVg"
      }
    },
    {
      "cell_type": "code",
      "execution_count": 54,
      "metadata": {
        "id": "FPkIHDq9BOvu"
      },
      "outputs": [],
      "source": [
        "#MENGIMPORT LIBRARY YANG DIBUTUHKAN\n",
        "\n",
        "import pandas as pd\n",
        "import seaborn as sns\n",
        "import pandas as pan\n",
        "import matplotlib.pyplot as plt\n",
        "import numpy as np\n",
        "import numpy as num\n",
        "import statistics"
      ]
    },
    {
      "cell_type": "code",
      "source": [
        "#MENAMBAHKAN DATASET\n",
        "\n",
        "#load dataset menggunakan URL, URL yang kami pakai merupakan link github kami yang telah kami isi dengan dataset Yugesh Ravi yang telah kami modifikasi sedikit.\n",
        "df = pd.read_csv(\"https://raw.githubusercontent.com/rimayadwiatika11/DATASET_STATISTIK_G1A021019-DAN-G1A021021/main/Dataset_Melbourne_Housing.csv\")"
      ],
      "metadata": {
        "id": "gHN9-aieBvYq"
      },
      "execution_count": 55,
      "outputs": []
    },
    {
      "cell_type": "code",
      "source": [
        "#TABLE DATASET\n",
        "\n",
        "#Menampilkan 5 record teratas dari dataset yang telah di load, menggunakan head()\n",
        "#Data yang ditampilkan berupa data penjualan rumah di malbourne dimana terdapat kolom tanggal rumah dibangun, terletak di pinggiran kota atau tidak, alamat rumah, fasilitas ruangan yang tersedia, tipe rumah, harga rumah, metode penjualan/pembayaran, serta orang yang menjualkan.\n",
        "\n",
        "df.head()"
      ],
      "metadata": {
        "id": "HTqC7-eZPING",
        "colab": {
          "base_uri": "https://localhost:8080/",
          "height": 206
        },
        "outputId": "0534248c-8572-411b-b36e-b847c6eca593"
      },
      "execution_count": 56,
      "outputs": [
        {
          "output_type": "execute_result",
          "data": {
            "text/plain": [
              "        Date      Suburb             Address  Rooms Type      Price Method  \\\n",
              "0   9/3/2016  Abbotsford       68 Studley St      2    h  8250000.0     SS   \n",
              "1  12/3/2016  Abbotsford        85 Turner St      2    h        NaN      S   \n",
              "2   2/4/2016  Abbotsford     25 Bloomburg St      2    h  1035000.0      S   \n",
              "3   2/4/2016  Abbotsford  18/659 Victoria St      3    u  1801000.0     VB   \n",
              "4   3/4/2017  Abbotsford        5 Charles St      3    h        NaN     SP   \n",
              "\n",
              "  SellerG  \n",
              "0  Jellis  \n",
              "1  Biggin  \n",
              "2  Biggin  \n",
              "3  Rounds  \n",
              "4  Biggin  "
            ],
            "text/html": [
              "\n",
              "  <div id=\"df-943738e2-749f-4464-a1ec-883ed55c8aa3\">\n",
              "    <div class=\"colab-df-container\">\n",
              "      <div>\n",
              "<style scoped>\n",
              "    .dataframe tbody tr th:only-of-type {\n",
              "        vertical-align: middle;\n",
              "    }\n",
              "\n",
              "    .dataframe tbody tr th {\n",
              "        vertical-align: top;\n",
              "    }\n",
              "\n",
              "    .dataframe thead th {\n",
              "        text-align: right;\n",
              "    }\n",
              "</style>\n",
              "<table border=\"1\" class=\"dataframe\">\n",
              "  <thead>\n",
              "    <tr style=\"text-align: right;\">\n",
              "      <th></th>\n",
              "      <th>Date</th>\n",
              "      <th>Suburb</th>\n",
              "      <th>Address</th>\n",
              "      <th>Rooms</th>\n",
              "      <th>Type</th>\n",
              "      <th>Price</th>\n",
              "      <th>Method</th>\n",
              "      <th>SellerG</th>\n",
              "    </tr>\n",
              "  </thead>\n",
              "  <tbody>\n",
              "    <tr>\n",
              "      <th>0</th>\n",
              "      <td>9/3/2016</td>\n",
              "      <td>Abbotsford</td>\n",
              "      <td>68 Studley St</td>\n",
              "      <td>2</td>\n",
              "      <td>h</td>\n",
              "      <td>8250000.0</td>\n",
              "      <td>SS</td>\n",
              "      <td>Jellis</td>\n",
              "    </tr>\n",
              "    <tr>\n",
              "      <th>1</th>\n",
              "      <td>12/3/2016</td>\n",
              "      <td>Abbotsford</td>\n",
              "      <td>85 Turner St</td>\n",
              "      <td>2</td>\n",
              "      <td>h</td>\n",
              "      <td>NaN</td>\n",
              "      <td>S</td>\n",
              "      <td>Biggin</td>\n",
              "    </tr>\n",
              "    <tr>\n",
              "      <th>2</th>\n",
              "      <td>2/4/2016</td>\n",
              "      <td>Abbotsford</td>\n",
              "      <td>25 Bloomburg St</td>\n",
              "      <td>2</td>\n",
              "      <td>h</td>\n",
              "      <td>1035000.0</td>\n",
              "      <td>S</td>\n",
              "      <td>Biggin</td>\n",
              "    </tr>\n",
              "    <tr>\n",
              "      <th>3</th>\n",
              "      <td>2/4/2016</td>\n",
              "      <td>Abbotsford</td>\n",
              "      <td>18/659 Victoria St</td>\n",
              "      <td>3</td>\n",
              "      <td>u</td>\n",
              "      <td>1801000.0</td>\n",
              "      <td>VB</td>\n",
              "      <td>Rounds</td>\n",
              "    </tr>\n",
              "    <tr>\n",
              "      <th>4</th>\n",
              "      <td>3/4/2017</td>\n",
              "      <td>Abbotsford</td>\n",
              "      <td>5 Charles St</td>\n",
              "      <td>3</td>\n",
              "      <td>h</td>\n",
              "      <td>NaN</td>\n",
              "      <td>SP</td>\n",
              "      <td>Biggin</td>\n",
              "    </tr>\n",
              "  </tbody>\n",
              "</table>\n",
              "</div>\n",
              "      <button class=\"colab-df-convert\" onclick=\"convertToInteractive('df-943738e2-749f-4464-a1ec-883ed55c8aa3')\"\n",
              "              title=\"Convert this dataframe to an interactive table.\"\n",
              "              style=\"display:none;\">\n",
              "        \n",
              "  <svg xmlns=\"http://www.w3.org/2000/svg\" height=\"24px\"viewBox=\"0 0 24 24\"\n",
              "       width=\"24px\">\n",
              "    <path d=\"M0 0h24v24H0V0z\" fill=\"none\"/>\n",
              "    <path d=\"M18.56 5.44l.94 2.06.94-2.06 2.06-.94-2.06-.94-.94-2.06-.94 2.06-2.06.94zm-11 1L8.5 8.5l.94-2.06 2.06-.94-2.06-.94L8.5 2.5l-.94 2.06-2.06.94zm10 10l.94 2.06.94-2.06 2.06-.94-2.06-.94-.94-2.06-.94 2.06-2.06.94z\"/><path d=\"M17.41 7.96l-1.37-1.37c-.4-.4-.92-.59-1.43-.59-.52 0-1.04.2-1.43.59L10.3 9.45l-7.72 7.72c-.78.78-.78 2.05 0 2.83L4 21.41c.39.39.9.59 1.41.59.51 0 1.02-.2 1.41-.59l7.78-7.78 2.81-2.81c.8-.78.8-2.07 0-2.86zM5.41 20L4 18.59l7.72-7.72 1.47 1.35L5.41 20z\"/>\n",
              "  </svg>\n",
              "      </button>\n",
              "      \n",
              "  <style>\n",
              "    .colab-df-container {\n",
              "      display:flex;\n",
              "      flex-wrap:wrap;\n",
              "      gap: 12px;\n",
              "    }\n",
              "\n",
              "    .colab-df-convert {\n",
              "      background-color: #E8F0FE;\n",
              "      border: none;\n",
              "      border-radius: 50%;\n",
              "      cursor: pointer;\n",
              "      display: none;\n",
              "      fill: #1967D2;\n",
              "      height: 32px;\n",
              "      padding: 0 0 0 0;\n",
              "      width: 32px;\n",
              "    }\n",
              "\n",
              "    .colab-df-convert:hover {\n",
              "      background-color: #E2EBFA;\n",
              "      box-shadow: 0px 1px 2px rgba(60, 64, 67, 0.3), 0px 1px 3px 1px rgba(60, 64, 67, 0.15);\n",
              "      fill: #174EA6;\n",
              "    }\n",
              "\n",
              "    [theme=dark] .colab-df-convert {\n",
              "      background-color: #3B4455;\n",
              "      fill: #D2E3FC;\n",
              "    }\n",
              "\n",
              "    [theme=dark] .colab-df-convert:hover {\n",
              "      background-color: #434B5C;\n",
              "      box-shadow: 0px 1px 3px 1px rgba(0, 0, 0, 0.15);\n",
              "      filter: drop-shadow(0px 1px 2px rgba(0, 0, 0, 0.3));\n",
              "      fill: #FFFFFF;\n",
              "    }\n",
              "  </style>\n",
              "\n",
              "      <script>\n",
              "        const buttonEl =\n",
              "          document.querySelector('#df-943738e2-749f-4464-a1ec-883ed55c8aa3 button.colab-df-convert');\n",
              "        buttonEl.style.display =\n",
              "          google.colab.kernel.accessAllowed ? 'block' : 'none';\n",
              "\n",
              "        async function convertToInteractive(key) {\n",
              "          const element = document.querySelector('#df-943738e2-749f-4464-a1ec-883ed55c8aa3');\n",
              "          const dataTable =\n",
              "            await google.colab.kernel.invokeFunction('convertToInteractive',\n",
              "                                                     [key], {});\n",
              "          if (!dataTable) return;\n",
              "\n",
              "          const docLinkHtml = 'Like what you see? Visit the ' +\n",
              "            '<a target=\"_blank\" href=https://colab.research.google.com/notebooks/data_table.ipynb>data table notebook</a>'\n",
              "            + ' to learn more about interactive tables.';\n",
              "          element.innerHTML = '';\n",
              "          dataTable['output_type'] = 'display_data';\n",
              "          await google.colab.output.renderOutput(dataTable, element);\n",
              "          const docLink = document.createElement('div');\n",
              "          docLink.innerHTML = docLinkHtml;\n",
              "          element.appendChild(docLink);\n",
              "        }\n",
              "      </script>\n",
              "    </div>\n",
              "  </div>\n",
              "  "
            ]
          },
          "metadata": {},
          "execution_count": 56
        }
      ]
    },
    {
      "cell_type": "code",
      "source": [
        "#MENAMPILKAN PANJANG DATASET\n",
        "#Panjang Dataset(Baris, Kolom)\n",
        "\n",
        "df.shape"
      ],
      "metadata": {
        "colab": {
          "base_uri": "https://localhost:8080/"
        },
        "id": "YReEY3qH0T68",
        "outputId": "eb12fab1-3e31-4163-8797-f94bb32c7719"
      },
      "execution_count": 52,
      "outputs": [
        {
          "output_type": "execute_result",
          "data": {
            "text/plain": [
              "(201, 8)"
            ]
          },
          "metadata": {},
          "execution_count": 52
        }
      ]
    },
    {
      "cell_type": "code",
      "source": [
        "#INFORMASI KOLOM\n",
        "#Menampilkan informasi column, datatype dan informasi struktur lainnya pada dataset\n",
        "\n",
        "df.info()"
      ],
      "metadata": {
        "colab": {
          "base_uri": "https://localhost:8080/"
        },
        "id": "JGPOztW40cuA",
        "outputId": "28e2b2d6-bb96-4553-fa20-993ddc194fa6"
      },
      "execution_count": 59,
      "outputs": [
        {
          "output_type": "stream",
          "name": "stdout",
          "text": [
            "<class 'pandas.core.frame.DataFrame'>\n",
            "RangeIndex: 201 entries, 0 to 200\n",
            "Data columns (total 8 columns):\n",
            " #   Column   Non-Null Count  Dtype  \n",
            "---  ------   --------------  -----  \n",
            " 0   Date     201 non-null    object \n",
            " 1   Suburb   201 non-null    object \n",
            " 2   Address  201 non-null    object \n",
            " 3   Rooms    201 non-null    int64  \n",
            " 4   Type     201 non-null    object \n",
            " 5   Price    195 non-null    float64\n",
            " 6   Method   201 non-null    object \n",
            " 7   SellerG  201 non-null    object \n",
            "dtypes: float64(1), int64(1), object(6)\n",
            "memory usage: 12.7+ KB\n"
          ]
        }
      ]
    },
    {
      "cell_type": "code",
      "source": [
        "#MENAMPILKAN KUMPULAN DATASET STATISTIK DESKRIPTIF\n",
        "#descriptive statistics dataset\n",
        "\n",
        "df.describe()"
      ],
      "metadata": {
        "colab": {
          "base_uri": "https://localhost:8080/",
          "height": 300
        },
        "id": "W-f9aQaZ0ixN",
        "outputId": "39f821eb-da78-4a5f-9985-318c9e1e5777"
      },
      "execution_count": 60,
      "outputs": [
        {
          "output_type": "execute_result",
          "data": {
            "text/plain": [
              "            Rooms         Price\n",
              "count  201.000000  1.950000e+02\n",
              "mean     2.751244  1.623832e+06\n",
              "std      0.887587  2.425690e+06\n",
              "min      1.000000  1.000000e+05\n",
              "25%      2.000000  7.200000e+05\n",
              "50%      3.000000  1.030000e+06\n",
              "75%      3.000000  1.775000e+06\n",
              "max      7.000000  2.200000e+07"
            ],
            "text/html": [
              "\n",
              "  <div id=\"df-8a41afd0-08e1-4b27-9579-efa6cc31660e\">\n",
              "    <div class=\"colab-df-container\">\n",
              "      <div>\n",
              "<style scoped>\n",
              "    .dataframe tbody tr th:only-of-type {\n",
              "        vertical-align: middle;\n",
              "    }\n",
              "\n",
              "    .dataframe tbody tr th {\n",
              "        vertical-align: top;\n",
              "    }\n",
              "\n",
              "    .dataframe thead th {\n",
              "        text-align: right;\n",
              "    }\n",
              "</style>\n",
              "<table border=\"1\" class=\"dataframe\">\n",
              "  <thead>\n",
              "    <tr style=\"text-align: right;\">\n",
              "      <th></th>\n",
              "      <th>Rooms</th>\n",
              "      <th>Price</th>\n",
              "    </tr>\n",
              "  </thead>\n",
              "  <tbody>\n",
              "    <tr>\n",
              "      <th>count</th>\n",
              "      <td>201.000000</td>\n",
              "      <td>1.950000e+02</td>\n",
              "    </tr>\n",
              "    <tr>\n",
              "      <th>mean</th>\n",
              "      <td>2.751244</td>\n",
              "      <td>1.623832e+06</td>\n",
              "    </tr>\n",
              "    <tr>\n",
              "      <th>std</th>\n",
              "      <td>0.887587</td>\n",
              "      <td>2.425690e+06</td>\n",
              "    </tr>\n",
              "    <tr>\n",
              "      <th>min</th>\n",
              "      <td>1.000000</td>\n",
              "      <td>1.000000e+05</td>\n",
              "    </tr>\n",
              "    <tr>\n",
              "      <th>25%</th>\n",
              "      <td>2.000000</td>\n",
              "      <td>7.200000e+05</td>\n",
              "    </tr>\n",
              "    <tr>\n",
              "      <th>50%</th>\n",
              "      <td>3.000000</td>\n",
              "      <td>1.030000e+06</td>\n",
              "    </tr>\n",
              "    <tr>\n",
              "      <th>75%</th>\n",
              "      <td>3.000000</td>\n",
              "      <td>1.775000e+06</td>\n",
              "    </tr>\n",
              "    <tr>\n",
              "      <th>max</th>\n",
              "      <td>7.000000</td>\n",
              "      <td>2.200000e+07</td>\n",
              "    </tr>\n",
              "  </tbody>\n",
              "</table>\n",
              "</div>\n",
              "      <button class=\"colab-df-convert\" onclick=\"convertToInteractive('df-8a41afd0-08e1-4b27-9579-efa6cc31660e')\"\n",
              "              title=\"Convert this dataframe to an interactive table.\"\n",
              "              style=\"display:none;\">\n",
              "        \n",
              "  <svg xmlns=\"http://www.w3.org/2000/svg\" height=\"24px\"viewBox=\"0 0 24 24\"\n",
              "       width=\"24px\">\n",
              "    <path d=\"M0 0h24v24H0V0z\" fill=\"none\"/>\n",
              "    <path d=\"M18.56 5.44l.94 2.06.94-2.06 2.06-.94-2.06-.94-.94-2.06-.94 2.06-2.06.94zm-11 1L8.5 8.5l.94-2.06 2.06-.94-2.06-.94L8.5 2.5l-.94 2.06-2.06.94zm10 10l.94 2.06.94-2.06 2.06-.94-2.06-.94-.94-2.06-.94 2.06-2.06.94z\"/><path d=\"M17.41 7.96l-1.37-1.37c-.4-.4-.92-.59-1.43-.59-.52 0-1.04.2-1.43.59L10.3 9.45l-7.72 7.72c-.78.78-.78 2.05 0 2.83L4 21.41c.39.39.9.59 1.41.59.51 0 1.02-.2 1.41-.59l7.78-7.78 2.81-2.81c.8-.78.8-2.07 0-2.86zM5.41 20L4 18.59l7.72-7.72 1.47 1.35L5.41 20z\"/>\n",
              "  </svg>\n",
              "      </button>\n",
              "      \n",
              "  <style>\n",
              "    .colab-df-container {\n",
              "      display:flex;\n",
              "      flex-wrap:wrap;\n",
              "      gap: 12px;\n",
              "    }\n",
              "\n",
              "    .colab-df-convert {\n",
              "      background-color: #E8F0FE;\n",
              "      border: none;\n",
              "      border-radius: 50%;\n",
              "      cursor: pointer;\n",
              "      display: none;\n",
              "      fill: #1967D2;\n",
              "      height: 32px;\n",
              "      padding: 0 0 0 0;\n",
              "      width: 32px;\n",
              "    }\n",
              "\n",
              "    .colab-df-convert:hover {\n",
              "      background-color: #E2EBFA;\n",
              "      box-shadow: 0px 1px 2px rgba(60, 64, 67, 0.3), 0px 1px 3px 1px rgba(60, 64, 67, 0.15);\n",
              "      fill: #174EA6;\n",
              "    }\n",
              "\n",
              "    [theme=dark] .colab-df-convert {\n",
              "      background-color: #3B4455;\n",
              "      fill: #D2E3FC;\n",
              "    }\n",
              "\n",
              "    [theme=dark] .colab-df-convert:hover {\n",
              "      background-color: #434B5C;\n",
              "      box-shadow: 0px 1px 3px 1px rgba(0, 0, 0, 0.15);\n",
              "      filter: drop-shadow(0px 1px 2px rgba(0, 0, 0, 0.3));\n",
              "      fill: #FFFFFF;\n",
              "    }\n",
              "  </style>\n",
              "\n",
              "      <script>\n",
              "        const buttonEl =\n",
              "          document.querySelector('#df-8a41afd0-08e1-4b27-9579-efa6cc31660e button.colab-df-convert');\n",
              "        buttonEl.style.display =\n",
              "          google.colab.kernel.accessAllowed ? 'block' : 'none';\n",
              "\n",
              "        async function convertToInteractive(key) {\n",
              "          const element = document.querySelector('#df-8a41afd0-08e1-4b27-9579-efa6cc31660e');\n",
              "          const dataTable =\n",
              "            await google.colab.kernel.invokeFunction('convertToInteractive',\n",
              "                                                     [key], {});\n",
              "          if (!dataTable) return;\n",
              "\n",
              "          const docLinkHtml = 'Like what you see? Visit the ' +\n",
              "            '<a target=\"_blank\" href=https://colab.research.google.com/notebooks/data_table.ipynb>data table notebook</a>'\n",
              "            + ' to learn more about interactive tables.';\n",
              "          element.innerHTML = '';\n",
              "          dataTable['output_type'] = 'display_data';\n",
              "          await google.colab.output.renderOutput(dataTable, element);\n",
              "          const docLink = document.createElement('div');\n",
              "          docLink.innerHTML = docLinkHtml;\n",
              "          element.appendChild(docLink);\n",
              "        }\n",
              "      </script>\n",
              "    </div>\n",
              "  </div>\n",
              "  "
            ]
          },
          "metadata": {},
          "execution_count": 60
        }
      ]
    },
    {
      "cell_type": "code",
      "source": [
        "#INFORMASI JUMLAH MISSING VALUE\n",
        "#Mengidentifikasi/melihat banyak data yang memiliki nilai null/NaN pada kolom \"Price\"\n",
        "df.isnull().sum()"
      ],
      "metadata": {
        "colab": {
          "base_uri": "https://localhost:8080/"
        },
        "id": "yFJ-oPja50XG",
        "outputId": "eff176c7-888f-4222-82c2-1a1eb467dd0c"
      },
      "execution_count": 62,
      "outputs": [
        {
          "output_type": "execute_result",
          "data": {
            "text/plain": [
              "Date       0\n",
              "Suburb     0\n",
              "Address    0\n",
              "Rooms      0\n",
              "Type       0\n",
              "Price      6\n",
              "Method     0\n",
              "SellerG    0\n",
              "dtype: int64"
            ]
          },
          "metadata": {},
          "execution_count": 62
        }
      ]
    },
    {
      "cell_type": "code",
      "source": [
        "#MENAMBAHKAN NILAI MISSING VALUE\n",
        "#mengganti missing value menggunakan Mode\n",
        "\n",
        "df['Price'] = df['Price'].fillna(df['Price'].mode()[0])\n",
        "df.head()"
      ],
      "metadata": {
        "colab": {
          "base_uri": "https://localhost:8080/",
          "height": 206
        },
        "id": "H0EidmIa0nkd",
        "outputId": "4721ef18-de93-437b-d05f-be7137da157c"
      },
      "execution_count": 63,
      "outputs": [
        {
          "output_type": "execute_result",
          "data": {
            "text/plain": [
              "        Date      Suburb             Address  Rooms Type      Price Method  \\\n",
              "0   9/3/2016  Abbotsford       68 Studley St      2    h  8250000.0     SS   \n",
              "1  12/3/2016  Abbotsford        85 Turner St      2    h  1801000.0      S   \n",
              "2   2/4/2016  Abbotsford     25 Bloomburg St      2    h  1035000.0      S   \n",
              "3   2/4/2016  Abbotsford  18/659 Victoria St      3    u  1801000.0     VB   \n",
              "4   3/4/2017  Abbotsford        5 Charles St      3    h  1801000.0     SP   \n",
              "\n",
              "  SellerG  \n",
              "0  Jellis  \n",
              "1  Biggin  \n",
              "2  Biggin  \n",
              "3  Rounds  \n",
              "4  Biggin  "
            ],
            "text/html": [
              "\n",
              "  <div id=\"df-21ef4bf2-41cc-4391-9812-e49db44e8c3a\">\n",
              "    <div class=\"colab-df-container\">\n",
              "      <div>\n",
              "<style scoped>\n",
              "    .dataframe tbody tr th:only-of-type {\n",
              "        vertical-align: middle;\n",
              "    }\n",
              "\n",
              "    .dataframe tbody tr th {\n",
              "        vertical-align: top;\n",
              "    }\n",
              "\n",
              "    .dataframe thead th {\n",
              "        text-align: right;\n",
              "    }\n",
              "</style>\n",
              "<table border=\"1\" class=\"dataframe\">\n",
              "  <thead>\n",
              "    <tr style=\"text-align: right;\">\n",
              "      <th></th>\n",
              "      <th>Date</th>\n",
              "      <th>Suburb</th>\n",
              "      <th>Address</th>\n",
              "      <th>Rooms</th>\n",
              "      <th>Type</th>\n",
              "      <th>Price</th>\n",
              "      <th>Method</th>\n",
              "      <th>SellerG</th>\n",
              "    </tr>\n",
              "  </thead>\n",
              "  <tbody>\n",
              "    <tr>\n",
              "      <th>0</th>\n",
              "      <td>9/3/2016</td>\n",
              "      <td>Abbotsford</td>\n",
              "      <td>68 Studley St</td>\n",
              "      <td>2</td>\n",
              "      <td>h</td>\n",
              "      <td>8250000.0</td>\n",
              "      <td>SS</td>\n",
              "      <td>Jellis</td>\n",
              "    </tr>\n",
              "    <tr>\n",
              "      <th>1</th>\n",
              "      <td>12/3/2016</td>\n",
              "      <td>Abbotsford</td>\n",
              "      <td>85 Turner St</td>\n",
              "      <td>2</td>\n",
              "      <td>h</td>\n",
              "      <td>1801000.0</td>\n",
              "      <td>S</td>\n",
              "      <td>Biggin</td>\n",
              "    </tr>\n",
              "    <tr>\n",
              "      <th>2</th>\n",
              "      <td>2/4/2016</td>\n",
              "      <td>Abbotsford</td>\n",
              "      <td>25 Bloomburg St</td>\n",
              "      <td>2</td>\n",
              "      <td>h</td>\n",
              "      <td>1035000.0</td>\n",
              "      <td>S</td>\n",
              "      <td>Biggin</td>\n",
              "    </tr>\n",
              "    <tr>\n",
              "      <th>3</th>\n",
              "      <td>2/4/2016</td>\n",
              "      <td>Abbotsford</td>\n",
              "      <td>18/659 Victoria St</td>\n",
              "      <td>3</td>\n",
              "      <td>u</td>\n",
              "      <td>1801000.0</td>\n",
              "      <td>VB</td>\n",
              "      <td>Rounds</td>\n",
              "    </tr>\n",
              "    <tr>\n",
              "      <th>4</th>\n",
              "      <td>3/4/2017</td>\n",
              "      <td>Abbotsford</td>\n",
              "      <td>5 Charles St</td>\n",
              "      <td>3</td>\n",
              "      <td>h</td>\n",
              "      <td>1801000.0</td>\n",
              "      <td>SP</td>\n",
              "      <td>Biggin</td>\n",
              "    </tr>\n",
              "  </tbody>\n",
              "</table>\n",
              "</div>\n",
              "      <button class=\"colab-df-convert\" onclick=\"convertToInteractive('df-21ef4bf2-41cc-4391-9812-e49db44e8c3a')\"\n",
              "              title=\"Convert this dataframe to an interactive table.\"\n",
              "              style=\"display:none;\">\n",
              "        \n",
              "  <svg xmlns=\"http://www.w3.org/2000/svg\" height=\"24px\"viewBox=\"0 0 24 24\"\n",
              "       width=\"24px\">\n",
              "    <path d=\"M0 0h24v24H0V0z\" fill=\"none\"/>\n",
              "    <path d=\"M18.56 5.44l.94 2.06.94-2.06 2.06-.94-2.06-.94-.94-2.06-.94 2.06-2.06.94zm-11 1L8.5 8.5l.94-2.06 2.06-.94-2.06-.94L8.5 2.5l-.94 2.06-2.06.94zm10 10l.94 2.06.94-2.06 2.06-.94-2.06-.94-.94-2.06-.94 2.06-2.06.94z\"/><path d=\"M17.41 7.96l-1.37-1.37c-.4-.4-.92-.59-1.43-.59-.52 0-1.04.2-1.43.59L10.3 9.45l-7.72 7.72c-.78.78-.78 2.05 0 2.83L4 21.41c.39.39.9.59 1.41.59.51 0 1.02-.2 1.41-.59l7.78-7.78 2.81-2.81c.8-.78.8-2.07 0-2.86zM5.41 20L4 18.59l7.72-7.72 1.47 1.35L5.41 20z\"/>\n",
              "  </svg>\n",
              "      </button>\n",
              "      \n",
              "  <style>\n",
              "    .colab-df-container {\n",
              "      display:flex;\n",
              "      flex-wrap:wrap;\n",
              "      gap: 12px;\n",
              "    }\n",
              "\n",
              "    .colab-df-convert {\n",
              "      background-color: #E8F0FE;\n",
              "      border: none;\n",
              "      border-radius: 50%;\n",
              "      cursor: pointer;\n",
              "      display: none;\n",
              "      fill: #1967D2;\n",
              "      height: 32px;\n",
              "      padding: 0 0 0 0;\n",
              "      width: 32px;\n",
              "    }\n",
              "\n",
              "    .colab-df-convert:hover {\n",
              "      background-color: #E2EBFA;\n",
              "      box-shadow: 0px 1px 2px rgba(60, 64, 67, 0.3), 0px 1px 3px 1px rgba(60, 64, 67, 0.15);\n",
              "      fill: #174EA6;\n",
              "    }\n",
              "\n",
              "    [theme=dark] .colab-df-convert {\n",
              "      background-color: #3B4455;\n",
              "      fill: #D2E3FC;\n",
              "    }\n",
              "\n",
              "    [theme=dark] .colab-df-convert:hover {\n",
              "      background-color: #434B5C;\n",
              "      box-shadow: 0px 1px 3px 1px rgba(0, 0, 0, 0.15);\n",
              "      filter: drop-shadow(0px 1px 2px rgba(0, 0, 0, 0.3));\n",
              "      fill: #FFFFFF;\n",
              "    }\n",
              "  </style>\n",
              "\n",
              "      <script>\n",
              "        const buttonEl =\n",
              "          document.querySelector('#df-21ef4bf2-41cc-4391-9812-e49db44e8c3a button.colab-df-convert');\n",
              "        buttonEl.style.display =\n",
              "          google.colab.kernel.accessAllowed ? 'block' : 'none';\n",
              "\n",
              "        async function convertToInteractive(key) {\n",
              "          const element = document.querySelector('#df-21ef4bf2-41cc-4391-9812-e49db44e8c3a');\n",
              "          const dataTable =\n",
              "            await google.colab.kernel.invokeFunction('convertToInteractive',\n",
              "                                                     [key], {});\n",
              "          if (!dataTable) return;\n",
              "\n",
              "          const docLinkHtml = 'Like what you see? Visit the ' +\n",
              "            '<a target=\"_blank\" href=https://colab.research.google.com/notebooks/data_table.ipynb>data table notebook</a>'\n",
              "            + ' to learn more about interactive tables.';\n",
              "          element.innerHTML = '';\n",
              "          dataTable['output_type'] = 'display_data';\n",
              "          await google.colab.output.renderOutput(dataTable, element);\n",
              "          const docLink = document.createElement('div');\n",
              "          docLink.innerHTML = docLinkHtml;\n",
              "          element.appendChild(docLink);\n",
              "        }\n",
              "      </script>\n",
              "    </div>\n",
              "  </div>\n",
              "  "
            ]
          },
          "metadata": {},
          "execution_count": 63
        }
      ]
    },
    {
      "cell_type": "code",
      "source": [
        "#MENDETEKSI OUTLIERS MENGGUNAKAN BOXPLOT\n",
        "#Menampilkan outliers dataset pada baris writing score menggunakan boxplot\n",
        "sample= df[\"Price\"]\n",
        "\n",
        "plt.boxplot(sample, vert=False)\n",
        "plt.title(\"Mendeteksi Outlier Menggunakan Boxplot\")\n",
        "plt.xlabel('Price')\n",
        "plt.show()"
      ],
      "metadata": {
        "colab": {
          "base_uri": "https://localhost:8080/",
          "height": 295
        },
        "id": "967EL0qRH5Gv",
        "outputId": "9f51adcf-6171-49fe-9f10-0f8ef614c687"
      },
      "execution_count": 64,
      "outputs": [
        {
          "output_type": "display_data",
          "data": {
            "text/plain": [
              "<Figure size 432x288 with 1 Axes>"
            ],
            "image/png": "[encoded data removed]"
          },
          "metadata": {
            "needs_background": "light"
          }
        }
      ]
    },
    {
      "cell_type": "code",
      "source": [
        "#MENDETEKSI OUTLIERS MENGGUNAKAN SCATTER PLOT\n",
        "#Titik titik yang berpencar menjauh adalah Outliers\n",
        "\n",
        "df.plot(x='Price',y='Rooms',kind = 'scatter') \n",
        "plt.show()"
      ],
      "metadata": {
        "colab": {
          "base_uri": "https://localhost:8080/",
          "height": 279
        },
        "id": "nAE_SPgH1LRx",
        "outputId": "42d8c26e-89cc-45ba-817d-6f682e5890ff"
      },
      "execution_count": 65,
      "outputs": [
        {
          "output_type": "display_data",
          "data": {
            "text/plain": [
              "<Figure size 432x288 with 1 Axes>"
            ],
            "image/png": "[encoded data removed]"
          },
          "metadata": {
            "needs_background": "light"
          }
        }
      ]
    },
    {
      "cell_type": "code",
      "source": [
        "#MENDETEKSI OUTLIERS MENGGUNAKAN Z-SCORES\n",
        "outliers = []\n",
        "def detect_outliers_zscore(data):\n",
        "    theres = 3\n",
        "    mean = np.mean(data)\n",
        "    std = np.std(data)\n",
        "    # print(mean, std)\n",
        "    for i in data:\n",
        "        z_score = (i-mean)/std\n",
        "        if (np.abs(z_score) > theres):\n",
        "            outliers.append(i)\n",
        "    return outliers# Driver code\n",
        "sample_outliers = detect_outliers_zscore(sample)\n",
        "print(\"Outliers from Z-scores method: \", sample_outliers)"
      ],
      "metadata": {
        "colab": {
          "base_uri": "https://localhost:8080/"
        },
        "id": "Al1Rspc1Iht2",
        "outputId": "1fe49af8-7e27-4f92-f929-6a33fc7e1fb0"
      },
      "execution_count": 66,
      "outputs": [
        {
          "output_type": "stream",
          "name": "stdout",
          "text": [
            "Outliers from Z-scores method:  [8970000.0, 21000000.0, 22000000.0]\n"
          ]
        }
      ]
    },
    {
      "cell_type": "code",
      "source": [
        "#MENCARI NILAI KUARTIL 1, KUARTIL 3, DAN IQR\n",
        "\n",
        "Q1 = df.Price.quantile(0.25)\n",
        "Q3 = df.Price.quantile(0.75)\n",
        "IQR = Q3 - Q1\n",
        "print('Kuartil 1 = ', Q1)\n",
        "print('Kuartil 3 = ', Q3)\n",
        "print('IQR = ', IQR)\n",
        "\n",
        "min_IQR = Q1 - 1.5 * IQR\n",
        "max_IQR = Q3 + 1.5 * IQR\n",
        "\n",
        "print('IQR minimum = ', min_IQR)\n",
        "print('IQR maksimum = ', max_IQR)\n",
        "\n",
        "nilai_min = np.min(df[\"Price\"])\n",
        "nilai_max = np.max(df[\"Price\"])"
      ],
      "metadata": {
        "colab": {
          "base_uri": "https://localhost:8080/"
        },
        "id": "vqPF7bb_IsNc",
        "outputId": "4c886d99-8625-4c77-bd81-49ea79e94c18"
      },
      "execution_count": 67,
      "outputs": [
        {
          "output_type": "stream",
          "name": "stdout",
          "text": [
            "Kuartil 1 =  722000.0\n",
            "Kuartil 3 =  1801000.0\n",
            "IQR =  1079000.0\n",
            "IQR minimum =  -896500.0\n",
            "IQR maksimum =  3419500.0\n"
          ]
        }
      ]
    },
    {
      "cell_type": "code",
      "source": [
        "#MENDETEKSI OUTLIERS MENGGUNAKAN IQR\n",
        "\n",
        "low_out = []\n",
        "high_out = []\n",
        "\n",
        "for i in df[\"Price\"]:\n",
        "    if (i < min_IQR):\n",
        "        low_out.append(i)\n",
        "    if (i > max_IQR):\n",
        "        high_out.append(i)\n",
        "\n",
        "print('Low outlier : ', low_out)\n",
        "print('High outlier : ', high_out)"
      ],
      "metadata": {
        "colab": {
          "base_uri": "https://localhost:8080/"
        },
        "id": "PzAH6-GMI3MS",
        "outputId": "e7523b6f-314d-4a94-c8ed-b1a1cae22cc3"
      },
      "execution_count": 68,
      "outputs": [
        {
          "output_type": "stream",
          "name": "stdout",
          "text": [
            "Low outlier :  []\n",
            "High outlier :  [8250000.0, 8500000.0, 8970000.0, 7450000.0, 7000000.0, 5000000.0, 4410000.0, 21000000.0, 22000000.0, 4735000.0, 3755000.0]\n"
          ]
        }
      ]
    },
    {
      "cell_type": "code",
      "source": [
        "#HAPUS OUTLIERS\n",
        "#menghapus outlier berdasarkan rentang IQR dan menyimpan hasilnya dalam bingkai data 'df_new'\n",
        "#Setelah dihapus panjang dataset yang semula (201,8) menjadi (190,5) berarti sebanyak 11 data dihapus\n",
        "\n",
        "df_new = df[~((df.Price < (Q1 - 1.5 * IQR)) | (df.Price > (Q3 + 1.5 * IQR)))]\n",
        "df_new"
      ],
      "metadata": {
        "colab": {
          "base_uri": "https://localhost:8080/",
          "height": 424
        },
        "id": "Yod8pbfSI8qQ",
        "outputId": "7ed8f723-8d60-4142-fbdd-e22ca47deebd"
      },
      "execution_count": 69,
      "outputs": [
        {
          "output_type": "execute_result",
          "data": {
            "text/plain": [
              "          Date      Suburb             Address  Rooms Type      Price Method  \\\n",
              "1    12/3/2016  Abbotsford        85 Turner St      2    h  1801000.0      S   \n",
              "2     2/4/2016  Abbotsford     25 Bloomburg St      2    h  1035000.0      S   \n",
              "3     2/4/2016  Abbotsford  18/659 Victoria St      3    u  1801000.0     VB   \n",
              "4     3/4/2017  Abbotsford        5 Charles St      3    h  1801000.0     SP   \n",
              "6     6/4/2016  Abbotsford         55a Park St      4    h  1600000.0     VB   \n",
              "..         ...         ...                 ...    ...  ...        ...    ...   \n",
              "196   9/3/2016  Alphington     5/6 Yarralea St      3    h  1110000.0      S   \n",
              "197   3/4/2017  Alphington      136A Fulham Rd      3    h  1492000.0      S   \n",
              "198   5/7/2016  Alphington       1/9 Roemer Cr      2    u   480000.0     PI   \n",
              "199   5/7/2016  Alphington        4 Tuckett St      3    h   560000.0      S   \n",
              "200  10/8/2016  Alphington      2/21 Fulham Rd      3    t  1304000.0     SP   \n",
              "\n",
              "     SellerG  \n",
              "1     Biggin  \n",
              "2     Biggin  \n",
              "3     Rounds  \n",
              "4     Biggin  \n",
              "6     Nelson  \n",
              "..       ...  \n",
              "196   Jellis  \n",
              "197   Jellis  \n",
              "198    Miles  \n",
              "199   Jellis  \n",
              "200  Holland  \n",
              "\n",
              "[190 rows x 8 columns]"
            ],
            "text/html": [
              "\n",
              "  <div id=\"df-58906070-1e0e-4e0d-bef5-ad9863eb38ce\">\n",
              "    <div class=\"colab-df-container\">\n",
              "      <div>\n",
              "<style scoped>\n",
              "    .dataframe tbody tr th:only-of-type {\n",
              "        vertical-align: middle;\n",
              "    }\n",
              "\n",
              "    .dataframe tbody tr th {\n",
              "        vertical-align: top;\n",
              "    }\n",
              "\n",
              "    .dataframe thead th {\n",
              "        text-align: right;\n",
              "    }\n",
              "</style>\n",
              "<table border=\"1\" class=\"dataframe\">\n",
              "  <thead>\n",
              "    <tr style=\"text-align: right;\">\n",
              "      <th></th>\n",
              "      <th>Date</th>\n",
              "      <th>Suburb</th>\n",
              "      <th>Address</th>\n",
              "      <th>Rooms</th>\n",
              "      <th>Type</th>\n",
              "      <th>Price</th>\n",
              "      <th>Method</th>\n",
              "      <th>SellerG</th>\n",
              "    </tr>\n",
              "  </thead>\n",
              "  <tbody>\n",
              "    <tr>\n",
              "      <th>1</th>\n",
              "      <td>12/3/2016</td>\n",
              "      <td>Abbotsford</td>\n",
              "      <td>85 Turner St</td>\n",
              "      <td>2</td>\n",
              "      <td>h</td>\n",
              "      <td>1801000.0</td>\n",
              "      <td>S</td>\n",
              "      <td>Biggin</td>\n",
              "    </tr>\n",
              "    <tr>\n",
              "      <th>2</th>\n",
              "      <td>2/4/2016</td>\n",
              "      <td>Abbotsford</td>\n",
              "      <td>25 Bloomburg St</td>\n",
              "      <td>2</td>\n",
              "      <td>h</td>\n",
              "      <td>1035000.0</td>\n",
              "      <td>S</td>\n",
              "      <td>Biggin</td>\n",
              "    </tr>\n",
              "    <tr>\n",
              "      <th>3</th>\n",
              "      <td>2/4/2016</td>\n",
              "      <td>Abbotsford</td>\n",
              "      <td>18/659 Victoria St</td>\n",
              "      <td>3</td>\n",
              "      <td>u</td>\n",
              "      <td>1801000.0</td>\n",
              "      <td>VB</td>\n",
              "      <td>Rounds</td>\n",
              "    </tr>\n",
              "    <tr>\n",
              "      <th>4</th>\n",
              "      <td>3/4/2017</td>\n",
              "      <td>Abbotsford</td>\n",
              "      <td>5 Charles St</td>\n",
              "      <td>3</td>\n",
              "      <td>h</td>\n",
              "      <td>1801000.0</td>\n",
              "      <td>SP</td>\n",
              "      <td>Biggin</td>\n",
              "    </tr>\n",
              "    <tr>\n",
              "      <th>6</th>\n",
              "      <td>6/4/2016</td>\n",
              "      <td>Abbotsford</td>\n",
              "      <td>55a Park St</td>\n",
              "      <td>4</td>\n",
              "      <td>h</td>\n",
              "      <td>1600000.0</td>\n",
              "      <td>VB</td>\n",
              "      <td>Nelson</td>\n",
              "    </tr>\n",
              "    <tr>\n",
              "      <th>...</th>\n",
              "      <td>...</td>\n",
              "      <td>...</td>\n",
              "      <td>...</td>\n",
              "      <td>...</td>\n",
              "      <td>...</td>\n",
              "      <td>...</td>\n",
              "      <td>...</td>\n",
              "      <td>...</td>\n",
              "    </tr>\n",
              "    <tr>\n",
              "      <th>196</th>\n",
              "      <td>9/3/2016</td>\n",
              "      <td>Alphington</td>\n",
              "      <td>5/6 Yarralea St</td>\n",
              "      <td>3</td>\n",
              "      <td>h</td>\n",
              "      <td>1110000.0</td>\n",
              "      <td>S</td>\n",
              "      <td>Jellis</td>\n",
              "    </tr>\n",
              "    <tr>\n",
              "      <th>197</th>\n",
              "      <td>3/4/2017</td>\n",
              "      <td>Alphington</td>\n",
              "      <td>136A Fulham Rd</td>\n",
              "      <td>3</td>\n",
              "      <td>h</td>\n",
              "      <td>1492000.0</td>\n",
              "      <td>S</td>\n",
              "      <td>Jellis</td>\n",
              "    </tr>\n",
              "    <tr>\n",
              "      <th>198</th>\n",
              "      <td>5/7/2016</td>\n",
              "      <td>Alphington</td>\n",
              "      <td>1/9 Roemer Cr</td>\n",
              "      <td>2</td>\n",
              "      <td>u</td>\n",
              "      <td>480000.0</td>\n",
              "      <td>PI</td>\n",
              "      <td>Miles</td>\n",
              "    </tr>\n",
              "    <tr>\n",
              "      <th>199</th>\n",
              "      <td>5/7/2016</td>\n",
              "      <td>Alphington</td>\n",
              "      <td>4 Tuckett St</td>\n",
              "      <td>3</td>\n",
              "      <td>h</td>\n",
              "      <td>560000.0</td>\n",
              "      <td>S</td>\n",
              "      <td>Jellis</td>\n",
              "    </tr>\n",
              "    <tr>\n",
              "      <th>200</th>\n",
              "      <td>10/8/2016</td>\n",
              "      <td>Alphington</td>\n",
              "      <td>2/21 Fulham Rd</td>\n",
              "      <td>3</td>\n",
              "      <td>t</td>\n",
              "      <td>1304000.0</td>\n",
              "      <td>SP</td>\n",
              "      <td>Holland</td>\n",
              "    </tr>\n",
              "  </tbody>\n",
              "</table>\n",
              "<p>190 rows × 8 columns</p>\n",
              "</div>\n",
              "      <button class=\"colab-df-convert\" onclick=\"convertToInteractive('df-58906070-1e0e-4e0d-bef5-ad9863eb38ce')\"\n",
              "              title=\"Convert this dataframe to an interactive table.\"\n",
              "              style=\"display:none;\">\n",
              "        \n",
              "  <svg xmlns=\"http://www.w3.org/2000/svg\" height=\"24px\"viewBox=\"0 0 24 24\"\n",
              "       width=\"24px\">\n",
              "    <path d=\"M0 0h24v24H0V0z\" fill=\"none\"/>\n",
              "    <path d=\"M18.56 5.44l.94 2.06.94-2.06 2.06-.94-2.06-.94-.94-2.06-.94 2.06-2.06.94zm-11 1L8.5 8.5l.94-2.06 2.06-.94-2.06-.94L8.5 2.5l-.94 2.06-2.06.94zm10 10l.94 2.06.94-2.06 2.06-.94-2.06-.94-.94-2.06-.94 2.06-2.06.94z\"/><path d=\"M17.41 7.96l-1.37-1.37c-.4-.4-.92-.59-1.43-.59-.52 0-1.04.2-1.43.59L10.3 9.45l-7.72 7.72c-.78.78-.78 2.05 0 2.83L4 21.41c.39.39.9.59 1.41.59.51 0 1.02-.2 1.41-.59l7.78-7.78 2.81-2.81c.8-.78.8-2.07 0-2.86zM5.41 20L4 18.59l7.72-7.72 1.47 1.35L5.41 20z\"/>\n",
              "  </svg>\n",
              "      </button>\n",
              "      \n",
              "  <style>\n",
              "    .colab-df-container {\n",
              "      display:flex;\n",
              "      flex-wrap:wrap;\n",
              "      gap: 12px;\n",
              "    }\n",
              "\n",
              "    .colab-df-convert {\n",
              "      background-color: #E8F0FE;\n",
              "      border: none;\n",
              "      border-radius: 50%;\n",
              "      cursor: pointer;\n",
              "      display: none;\n",
              "      fill: #1967D2;\n",
              "      height: 32px;\n",
              "      padding: 0 0 0 0;\n",
              "      width: 32px;\n",
              "    }\n",
              "\n",
              "    .colab-df-convert:hover {\n",
              "      background-color: #E2EBFA;\n",
              "      box-shadow: 0px 1px 2px rgba(60, 64, 67, 0.3), 0px 1px 3px 1px rgba(60, 64, 67, 0.15);\n",
              "      fill: #174EA6;\n",
              "    }\n",
              "\n",
              "    [theme=dark] .colab-df-convert {\n",
              "      background-color: #3B4455;\n",
              "      fill: #D2E3FC;\n",
              "    }\n",
              "\n",
              "    [theme=dark] .colab-df-convert:hover {\n",
              "      background-color: #434B5C;\n",
              "      box-shadow: 0px 1px 3px 1px rgba(0, 0, 0, 0.15);\n",
              "      filter: drop-shadow(0px 1px 2px rgba(0, 0, 0, 0.3));\n",
              "      fill: #FFFFFF;\n",
              "    }\n",
              "  </style>\n",
              "\n",
              "      <script>\n",
              "        const buttonEl =\n",
              "          document.querySelector('#df-58906070-1e0e-4e0d-bef5-ad9863eb38ce button.colab-df-convert');\n",
              "        buttonEl.style.display =\n",
              "          google.colab.kernel.accessAllowed ? 'block' : 'none';\n",
              "\n",
              "        async function convertToInteractive(key) {\n",
              "          const element = document.querySelector('#df-58906070-1e0e-4e0d-bef5-ad9863eb38ce');\n",
              "          const dataTable =\n",
              "            await google.colab.kernel.invokeFunction('convertToInteractive',\n",
              "                                                     [key], {});\n",
              "          if (!dataTable) return;\n",
              "\n",
              "          const docLinkHtml = 'Like what you see? Visit the ' +\n",
              "            '<a target=\"_blank\" href=https://colab.research.google.com/notebooks/data_table.ipynb>data table notebook</a>'\n",
              "            + ' to learn more about interactive tables.';\n",
              "          element.innerHTML = '';\n",
              "          dataTable['output_type'] = 'display_data';\n",
              "          await google.colab.output.renderOutput(dataTable, element);\n",
              "          const docLink = document.createElement('div');\n",
              "          docLink.innerHTML = docLinkHtml;\n",
              "          element.appendChild(docLink);\n",
              "        }\n",
              "      </script>\n",
              "    </div>\n",
              "  </div>\n",
              "  "
            ]
          },
          "metadata": {},
          "execution_count": 69
        }
      ]
    },
    {
      "cell_type": "code",
      "source": [
        "# Menentukan flooring and capping pada dataset\n",
        "\n",
        "tenth_percentile = np.percentile(sample, 10)\n",
        "ninetieth_percentile = np.percentile(sample, 90)\n",
        "print(tenth_percentile, ninetieth_percentile)\n",
        "b = np.where(sample<tenth_percentile, tenth_percentile, sample)\n",
        "b = np.where(b>ninetieth_percentile, ninetieth_percentile, b)\n",
        "print(\"New array:\",b)"
      ],
      "metadata": {
        "colab": {
          "base_uri": "https://localhost:8080/"
        },
        "id": "UafOrRO1JE1f",
        "outputId": "514987e5-992e-4a58-f8c9-a1f48707540c"
      },
      "execution_count": 70,
      "outputs": [
        {
          "output_type": "stream",
          "name": "stdout",
          "text": [
            "500000.0 2485000.0\n",
            "New array: [2485000. 1801000. 1035000. 1801000. 1801000. 2485000. 1600000. 1985000.\n",
            "  956250. 2485000.  941000. 1876000.  856000. 1985000. 1636000. 1000000.\n",
            " 2485000. 2485000. 1097000.  542000. 1636000.  760000.  500000. 2485000.\n",
            " 1350000.  750000. 1985000. 2485000. 1172500. 2485000. 1310000. 1801000.\n",
            " 1200000.  847000. 1636000. 1176500.  955000.  890000. 1330000.  962500.\n",
            "  900000. 1090000.  500000. 1100000. 1315000.  500000.  500000. 1801000.\n",
            "  500000. 1447500.  500000. 1135000.  700000. 1542000.  962000. 1290000.\n",
            " 1290000.  500000. 1180000. 1195000. 1562500. 1012500.  970000. 1030000.\n",
            " 1685000.  927000.  840000.  730000.  770000. 1201000.  603000.  700000.\n",
            "  600000.  500000.  500000.  500000. 1035000.  960000.  960000.  720000.\n",
            "  785000.  725000.  500000.  515000.  680000.  530000.  895000.  600000.\n",
            "  805000.  760000.  752000.  580000.  725000.  758000.  500000.  970000.\n",
            "  755000.  985000.  700000.  509500.  830000.  500000.  670000.  675000.\n",
            " 1042000.  910000.  773000.  715000.  810000.  715000.  790000.  500000.\n",
            "  540000.  825000.  685000.  500000.  805000.  510000.  612000.  662000.\n",
            "  978000. 1801000.  720000.  500000.  500000.  500000.  715000.  671500.\n",
            "  765000.  900000.  820000.  650000.  552000. 1275000. 1455000. 2485000.\n",
            " 1850000. 1150000. 1436000. 1801000. 1110000. 1550000. 2300000. 1801000.\n",
            " 1550000. 1800000. 2485000. 2120000. 1800000. 1800000. 1801000. 1810000.\n",
            " 2485000. 2100000. 1300000. 1370000. 1000000. 1100000. 2485000. 1322500.\n",
            " 1120000. 1562500. 2000000. 2485000. 1801000. 1900000. 2485000. 1801000.\n",
            " 2485000.  760000.  647000.  722000. 2485000. 1801000. 1562500. 2485000.\n",
            " 2000000.  500000. 2485000. 1340000. 1801000. 1532000. 2485000. 2140000.\n",
            " 1810000. 1750000.  980000.  500000. 2485000. 1890000. 2030000. 1740000.\n",
            " 2485000.  985000. 2201000. 2000000. 1110000. 1492000.  500000.  560000.\n",
            " 1304000.]\n"
          ]
        }
      ]
    },
    {
      "cell_type": "code",
      "source": [
        "#IMPUTATION MEDIAN\n",
        "#mengganti Nilai Outlier Menggunakan Imputation (median)\n",
        "\n",
        "median = np.median(sample)\n",
        "for i in sample_outliers:\n",
        "    c = np.where(sample==i, 14, sample)\n",
        "print(\"Sample: \", sample)\n",
        "print(\"New array: \",c)"
      ],
      "metadata": {
        "colab": {
          "base_uri": "https://localhost:8080/"
        },
        "id": "pGRuWRl7JIq-",
        "outputId": "fb52f2d5-12b0-4b4f-caee-59bda1dc8f4b"
      },
      "execution_count": 71,
      "outputs": [
        {
          "output_type": "stream",
          "name": "stdout",
          "text": [
            "Sample:  0      8250000.0\n",
            "1      1801000.0\n",
            "2      1035000.0\n",
            "3      1801000.0\n",
            "4      1801000.0\n",
            "         ...    \n",
            "196    1110000.0\n",
            "197    1492000.0\n",
            "198     480000.0\n",
            "199     560000.0\n",
            "200    1304000.0\n",
            "Name: Price, Length: 201, dtype: float64\n",
            "New array:  [8.2500e+06 1.8010e+06 1.0350e+06 1.8010e+06 1.8010e+06 8.5000e+06\n",
            " 1.6000e+06 1.9850e+06 9.5625e+05 8.9700e+06 9.4100e+05 1.8760e+06\n",
            " 8.5600e+05 1.9850e+06 1.6360e+06 1.0000e+06 7.4500e+06 3.0000e+06\n",
            " 1.0970e+06 5.4200e+05 1.6360e+06 7.6000e+05 4.8100e+05 7.0000e+06\n",
            " 1.3500e+06 7.5000e+05 1.9850e+06 5.0000e+06 1.1725e+06 4.4100e+06\n",
            " 1.3100e+06 1.8010e+06 1.2000e+06 8.4700e+05 1.6360e+06 1.1765e+06\n",
            " 9.5500e+05 8.9000e+05 1.3300e+06 9.6250e+05 9.0000e+05 1.0900e+06\n",
            " 5.0000e+05 1.1000e+06 1.3150e+06 4.8000e+05 4.2350e+05 1.8010e+06\n",
            " 4.2600e+05 1.4475e+06 4.5700e+05 1.1350e+06 7.0000e+05 1.5420e+06\n",
            " 9.6200e+05 1.2900e+06 1.2900e+06 4.7000e+05 1.1800e+06 1.1950e+06\n",
            " 1.5625e+06 1.0125e+06 9.7000e+05 1.0300e+06 1.6850e+06 9.2700e+05\n",
            " 8.4000e+05 7.3000e+05 7.7000e+05 1.2010e+06 6.0300e+05 7.0000e+05\n",
            " 6.0000e+05 5.0000e+05 4.2000e+05 5.0000e+05 1.0350e+06 9.6000e+05\n",
            " 9.6000e+05 7.2000e+05 7.8500e+05 7.2500e+05 4.5000e+05 5.1500e+05\n",
            " 6.8000e+05 5.3000e+05 8.9500e+05 6.0000e+05 8.0500e+05 7.6000e+05\n",
            " 7.5200e+05 5.8000e+05 7.2500e+05 7.5800e+05 4.4000e+05 9.7000e+05\n",
            " 7.5500e+05 9.8500e+05 7.0000e+05 5.0950e+05 8.3000e+05 4.6250e+05\n",
            " 6.7000e+05 6.7500e+05 1.0420e+06 9.1000e+05 7.7300e+05 7.1500e+05\n",
            " 8.1000e+05 7.1500e+05 7.9000e+05 4.6000e+05 5.4000e+05 8.2500e+05\n",
            " 6.8500e+05 4.4500e+05 8.0500e+05 5.1000e+05 6.1200e+05 6.6200e+05\n",
            " 9.7800e+05 1.8010e+06 7.2000e+05 4.7400e+05 4.9000e+05 4.0500e+05\n",
            " 7.1500e+05 6.7150e+05 7.6500e+05 9.0000e+05 8.2000e+05 6.5000e+05\n",
            " 5.5200e+05 1.2750e+06 1.4550e+06 2.8500e+06 1.8500e+06 1.1500e+06\n",
            " 1.4360e+06 1.8010e+06 1.1100e+06 1.5500e+06 2.3000e+06 1.8010e+06\n",
            " 1.5500e+06 1.8000e+06 2.4850e+06 2.1200e+06 1.8000e+06 1.8000e+06\n",
            " 1.8010e+06 1.8100e+06 2.6150e+06 2.1000e+06 1.3000e+06 1.3700e+06\n",
            " 1.0000e+06 1.1000e+06 2.5750e+06 1.3225e+06 1.1200e+06 1.5625e+06\n",
            " 2.0000e+06 3.0000e+06 1.8010e+06 1.9000e+06 3.0100e+06 1.8010e+06\n",
            " 2.8000e+06 7.6000e+05 6.4700e+05 7.2200e+05 2.1000e+07 1.8010e+06\n",
            " 1.5625e+06 1.4000e+01 2.0000e+06 4.4250e+05 4.7350e+06 1.3400e+06\n",
            " 1.8010e+06 1.5320e+06 3.7550e+06 2.1400e+06 1.8100e+06 1.7500e+06\n",
            " 9.8000e+05 1.0000e+05 2.9000e+06 1.8900e+06 2.0300e+06 1.7400e+06\n",
            " 2.8000e+06 9.8500e+05 2.2010e+06 2.0000e+06 1.1100e+06 1.4920e+06\n",
            " 4.8000e+05 5.6000e+05 1.3040e+06]\n"
          ]
        }
      ]
    },
    {
      "cell_type": "code",
      "source": [
        "#IMPUTATION MEAN\n",
        "#mengganti Nilai Outlier Menggunakan Imputation (mean)\n",
        "\n",
        "mean = np.mean(sample)\n",
        "for i in sample_outliers:\n",
        "    c = np.where(sample==i, 14,sample)\n",
        "print(\"Sample: \", sample)\n",
        "print(\"New array: \",c)"
      ],
      "metadata": {
        "colab": {
          "base_uri": "https://localhost:8080/"
        },
        "id": "FG-wyDpKJNJr",
        "outputId": "80c711ee-ccda-477f-d6e6-d04a7969130a"
      },
      "execution_count": 72,
      "outputs": [
        {
          "output_type": "stream",
          "name": "stdout",
          "text": [
            "Sample:  0      8250000.0\n",
            "1      1801000.0\n",
            "2      1035000.0\n",
            "3      1801000.0\n",
            "4      1801000.0\n",
            "         ...    \n",
            "196    1110000.0\n",
            "197    1492000.0\n",
            "198     480000.0\n",
            "199     560000.0\n",
            "200    1304000.0\n",
            "Name: Price, Length: 201, dtype: float64\n",
            "New array:  [8.2500e+06 1.8010e+06 1.0350e+06 1.8010e+06 1.8010e+06 8.5000e+06\n",
            " 1.6000e+06 1.9850e+06 9.5625e+05 8.9700e+06 9.4100e+05 1.8760e+06\n",
            " 8.5600e+05 1.9850e+06 1.6360e+06 1.0000e+06 7.4500e+06 3.0000e+06\n",
            " 1.0970e+06 5.4200e+05 1.6360e+06 7.6000e+05 4.8100e+05 7.0000e+06\n",
            " 1.3500e+06 7.5000e+05 1.9850e+06 5.0000e+06 1.1725e+06 4.4100e+06\n",
            " 1.3100e+06 1.8010e+06 1.2000e+06 8.4700e+05 1.6360e+06 1.1765e+06\n",
            " 9.5500e+05 8.9000e+05 1.3300e+06 9.6250e+05 9.0000e+05 1.0900e+06\n",
            " 5.0000e+05 1.1000e+06 1.3150e+06 4.8000e+05 4.2350e+05 1.8010e+06\n",
            " 4.2600e+05 1.4475e+06 4.5700e+05 1.1350e+06 7.0000e+05 1.5420e+06\n",
            " 9.6200e+05 1.2900e+06 1.2900e+06 4.7000e+05 1.1800e+06 1.1950e+06\n",
            " 1.5625e+06 1.0125e+06 9.7000e+05 1.0300e+06 1.6850e+06 9.2700e+05\n",
            " 8.4000e+05 7.3000e+05 7.7000e+05 1.2010e+06 6.0300e+05 7.0000e+05\n",
            " 6.0000e+05 5.0000e+05 4.2000e+05 5.0000e+05 1.0350e+06 9.6000e+05\n",
            " 9.6000e+05 7.2000e+05 7.8500e+05 7.2500e+05 4.5000e+05 5.1500e+05\n",
            " 6.8000e+05 5.3000e+05 8.9500e+05 6.0000e+05 8.0500e+05 7.6000e+05\n",
            " 7.5200e+05 5.8000e+05 7.2500e+05 7.5800e+05 4.4000e+05 9.7000e+05\n",
            " 7.5500e+05 9.8500e+05 7.0000e+05 5.0950e+05 8.3000e+05 4.6250e+05\n",
            " 6.7000e+05 6.7500e+05 1.0420e+06 9.1000e+05 7.7300e+05 7.1500e+05\n",
            " 8.1000e+05 7.1500e+05 7.9000e+05 4.6000e+05 5.4000e+05 8.2500e+05\n",
            " 6.8500e+05 4.4500e+05 8.0500e+05 5.1000e+05 6.1200e+05 6.6200e+05\n",
            " 9.7800e+05 1.8010e+06 7.2000e+05 4.7400e+05 4.9000e+05 4.0500e+05\n",
            " 7.1500e+05 6.7150e+05 7.6500e+05 9.0000e+05 8.2000e+05 6.5000e+05\n",
            " 5.5200e+05 1.2750e+06 1.4550e+06 2.8500e+06 1.8500e+06 1.1500e+06\n",
            " 1.4360e+06 1.8010e+06 1.1100e+06 1.5500e+06 2.3000e+06 1.8010e+06\n",
            " 1.5500e+06 1.8000e+06 2.4850e+06 2.1200e+06 1.8000e+06 1.8000e+06\n",
            " 1.8010e+06 1.8100e+06 2.6150e+06 2.1000e+06 1.3000e+06 1.3700e+06\n",
            " 1.0000e+06 1.1000e+06 2.5750e+06 1.3225e+06 1.1200e+06 1.5625e+06\n",
            " 2.0000e+06 3.0000e+06 1.8010e+06 1.9000e+06 3.0100e+06 1.8010e+06\n",
            " 2.8000e+06 7.6000e+05 6.4700e+05 7.2200e+05 2.1000e+07 1.8010e+06\n",
            " 1.5625e+06 1.4000e+01 2.0000e+06 4.4250e+05 4.7350e+06 1.3400e+06\n",
            " 1.8010e+06 1.5320e+06 3.7550e+06 2.1400e+06 1.8100e+06 1.7500e+06\n",
            " 9.8000e+05 1.0000e+05 2.9000e+06 1.8900e+06 2.0300e+06 1.7400e+06\n",
            " 2.8000e+06 9.8500e+05 2.2010e+06 2.0000e+06 1.1100e+06 1.4920e+06\n",
            " 4.8000e+05 5.6000e+05 1.3040e+06]\n"
          ]
        }
      ]
    },
    {
      "cell_type": "code",
      "source": [
        "#TAMPILAN BOXPLOT TANPA OUTLIERS\n",
        "#Menampilkan boxplot yang telah bebas dari outliers \n",
        "\n",
        "df_new.boxplot([\"Price\"],vert=False)\n",
        "plt.title(\"Tampilan Boxplot Setelah Bebas/ Tidak Ada Outlier\")\n",
        "plt.xlabel(\"Price\")"
      ],
      "metadata": {
        "colab": {
          "base_uri": "https://localhost:8080/",
          "height": 312
        },
        "id": "daOQKysFJQei",
        "outputId": "2cab9c08-4843-48b3-f04a-fd2242982874"
      },
      "execution_count": 73,
      "outputs": [
        {
          "output_type": "execute_result",
          "data": {
            "text/plain": [
              "Text(0.5, 0, 'Price')"
            ]
          },
          "metadata": {},
          "execution_count": 73
        },
        {
          "output_type": "display_data",
          "data": {
            "text/plain": [
              "<Figure size 432x288 with 1 Axes>"
            ],
            "image/png": "[encoded data removed]"
          },
          "metadata": {
            "needs_background": "light"
          }
        }
      ]
    },
    {
      "cell_type": "markdown",
      "source": [
        "## Correlation Analysis (bivariate)\n",
        "\n",
        "\n",
        "\n",
        "\n"
      ],
      "metadata": {
        "id": "KAcOi9hwJgqO"
      }
    },
    {
      "cell_type": "markdown",
      "source": [
        "Data Numerik"
      ],
      "metadata": {
        "id": "C_zsIFAZ3oS1"
      }
    },
    {
      "cell_type": "code",
      "source": [
        "#MENEMUKAN KORELASI\n",
        "#Menemukan korelasi antara semua variabel numerik\n",
        "\n",
        "df.select_dtypes(['float64' , 'int64']).corr()"
      ],
      "metadata": {
        "colab": {
          "base_uri": "https://localhost:8080/",
          "height": 112
        },
        "id": "lpJ31QEcJmpP",
        "outputId": "d941483c-02af-4ae7-9420-37a4718e23f5"
      },
      "execution_count": 74,
      "outputs": [
        {
          "output_type": "execute_result",
          "data": {
            "text/plain": [
              "          Rooms     Price\n",
              "Rooms  1.000000  0.221991\n",
              "Price  0.221991  1.000000"
            ],
            "text/html": [
              "\n",
              "  <div id=\"df-6d276e9d-3c0c-4f18-93e0-b29c9ebd19a8\">\n",
              "    <div class=\"colab-df-container\">\n",
              "      <div>\n",
              "<style scoped>\n",
              "    .dataframe tbody tr th:only-of-type {\n",
              "        vertical-align: middle;\n",
              "    }\n",
              "\n",
              "    .dataframe tbody tr th {\n",
              "        vertical-align: top;\n",
              "    }\n",
              "\n",
              "    .dataframe thead th {\n",
              "        text-align: right;\n",
              "    }\n",
              "</style>\n",
              "<table border=\"1\" class=\"dataframe\">\n",
              "  <thead>\n",
              "    <tr style=\"text-align: right;\">\n",
              "      <th></th>\n",
              "      <th>Rooms</th>\n",
              "      <th>Price</th>\n",
              "    </tr>\n",
              "  </thead>\n",
              "  <tbody>\n",
              "    <tr>\n",
              "      <th>Rooms</th>\n",
              "      <td>1.000000</td>\n",
              "      <td>0.221991</td>\n",
              "    </tr>\n",
              "    <tr>\n",
              "      <th>Price</th>\n",
              "      <td>0.221991</td>\n",
              "      <td>1.000000</td>\n",
              "    </tr>\n",
              "  </tbody>\n",
              "</table>\n",
              "</div>\n",
              "      <button class=\"colab-df-convert\" onclick=\"convertToInteractive('df-6d276e9d-3c0c-4f18-93e0-b29c9ebd19a8')\"\n",
              "              title=\"Convert this dataframe to an interactive table.\"\n",
              "              style=\"display:none;\">\n",
              "        \n",
              "  <svg xmlns=\"http://www.w3.org/2000/svg\" height=\"24px\"viewBox=\"0 0 24 24\"\n",
              "       width=\"24px\">\n",
              "    <path d=\"M0 0h24v24H0V0z\" fill=\"none\"/>\n",
              "    <path d=\"M18.56 5.44l.94 2.06.94-2.06 2.06-.94-2.06-.94-.94-2.06-.94 2.06-2.06.94zm-11 1L8.5 8.5l.94-2.06 2.06-.94-2.06-.94L8.5 2.5l-.94 2.06-2.06.94zm10 10l.94 2.06.94-2.06 2.06-.94-2.06-.94-.94-2.06-.94 2.06-2.06.94z\"/><path d=\"M17.41 7.96l-1.37-1.37c-.4-.4-.92-.59-1.43-.59-.52 0-1.04.2-1.43.59L10.3 9.45l-7.72 7.72c-.78.78-.78 2.05 0 2.83L4 21.41c.39.39.9.59 1.41.59.51 0 1.02-.2 1.41-.59l7.78-7.78 2.81-2.81c.8-.78.8-2.07 0-2.86zM5.41 20L4 18.59l7.72-7.72 1.47 1.35L5.41 20z\"/>\n",
              "  </svg>\n",
              "      </button>\n",
              "      \n",
              "  <style>\n",
              "    .colab-df-container {\n",
              "      display:flex;\n",
              "      flex-wrap:wrap;\n",
              "      gap: 12px;\n",
              "    }\n",
              "\n",
              "    .colab-df-convert {\n",
              "      background-color: #E8F0FE;\n",
              "      border: none;\n",
              "      border-radius: 50%;\n",
              "      cursor: pointer;\n",
              "      display: none;\n",
              "      fill: #1967D2;\n",
              "      height: 32px;\n",
              "      padding: 0 0 0 0;\n",
              "      width: 32px;\n",
              "    }\n",
              "\n",
              "    .colab-df-convert:hover {\n",
              "      background-color: #E2EBFA;\n",
              "      box-shadow: 0px 1px 2px rgba(60, 64, 67, 0.3), 0px 1px 3px 1px rgba(60, 64, 67, 0.15);\n",
              "      fill: #174EA6;\n",
              "    }\n",
              "\n",
              "    [theme=dark] .colab-df-convert {\n",
              "      background-color: #3B4455;\n",
              "      fill: #D2E3FC;\n",
              "    }\n",
              "\n",
              "    [theme=dark] .colab-df-convert:hover {\n",
              "      background-color: #434B5C;\n",
              "      box-shadow: 0px 1px 3px 1px rgba(0, 0, 0, 0.15);\n",
              "      filter: drop-shadow(0px 1px 2px rgba(0, 0, 0, 0.3));\n",
              "      fill: #FFFFFF;\n",
              "    }\n",
              "  </style>\n",
              "\n",
              "      <script>\n",
              "        const buttonEl =\n",
              "          document.querySelector('#df-6d276e9d-3c0c-4f18-93e0-b29c9ebd19a8 button.colab-df-convert');\n",
              "        buttonEl.style.display =\n",
              "          google.colab.kernel.accessAllowed ? 'block' : 'none';\n",
              "\n",
              "        async function convertToInteractive(key) {\n",
              "          const element = document.querySelector('#df-6d276e9d-3c0c-4f18-93e0-b29c9ebd19a8');\n",
              "          const dataTable =\n",
              "            await google.colab.kernel.invokeFunction('convertToInteractive',\n",
              "                                                     [key], {});\n",
              "          if (!dataTable) return;\n",
              "\n",
              "          const docLinkHtml = 'Like what you see? Visit the ' +\n",
              "            '<a target=\"_blank\" href=https://colab.research.google.com/notebooks/data_table.ipynb>data table notebook</a>'\n",
              "            + ' to learn more about interactive tables.';\n",
              "          element.innerHTML = '';\n",
              "          dataTable['output_type'] = 'display_data';\n",
              "          await google.colab.output.renderOutput(dataTable, element);\n",
              "          const docLink = document.createElement('div');\n",
              "          docLink.innerHTML = docLinkHtml;\n",
              "          element.appendChild(docLink);\n",
              "        }\n",
              "      </script>\n",
              "    </div>\n",
              "  </div>\n",
              "  "
            ]
          },
          "metadata": {},
          "execution_count": 74
        }
      ]
    },
    {
      "cell_type": "code",
      "source": [
        "#HEATMAP\n",
        "#Dibawah ini adalah tampilan korelasi menggunakan heatmap  semakin pekat warnannya maka korelasinya akan semakin kuat\n",
        "\n",
        "plt = plt.figure(figsize=(9,7)) \n",
        "sns.heatmap(df.select_dtypes(['float64' , 'int64']).corr(), annot=True) \n",
        "plt.show()"
      ],
      "metadata": {
        "colab": {
          "base_uri": "https://localhost:8080/",
          "height": 432
        },
        "id": "ZQg_tTbBJrG5",
        "outputId": "236829e1-819c-4bdc-8eb8-642948684c27"
      },
      "execution_count": 75,
      "outputs": [
        {
          "output_type": "display_data",
          "data": {
            "text/plain": [
              "<Figure size 648x504 with 2 Axes>"
            ],
            "image/png": "[encoded data removed]"
          },
          "metadata": {
            "needs_background": "light"
          }
        }
      ]
    }
  ]
}